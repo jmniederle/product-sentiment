{
 "cells": [
  {
   "cell_type": "code",
   "execution_count": 1,
   "outputs": [],
   "source": [
    "import snscrape.modules.twitter as sntwitter\n",
    "import pandas as pd"
   ],
   "metadata": {
    "collapsed": false,
    "pycharm": {
     "name": "#%%\n"
    }
   }
  },
  {
   "cell_type": "code",
   "execution_count": 26,
   "outputs": [],
   "source": [
    "maxTweets = 1000\n",
    "attributes = ['id', 'date', 'rawContent', 'sourceLabel', 'user']\n",
    "\n",
    "tweet_list = []\n",
    "\n",
    "# can use from: since: lang: until:\n",
    "for i, tweet in enumerate(sntwitter.TwitterSearchScraper('Milk lang:en since:2020-01-01 until:now').get_items()):\n",
    "\n",
    "    if i > maxTweets:\n",
    "        break\n",
    "\n",
    "    tweet_list.append([tweet.__dict__[a] if a!=\"user\" else tweet.__dict__[a].username \\\n",
    "                       for a in attributes ])\n",
    "\n",
    "tweet_df = pd.DataFrame(tweet_list, columns=attributes)"
   ],
   "metadata": {
    "collapsed": false,
    "pycharm": {
     "name": "#%%\n"
    }
   }
  },
  {
   "cell_type": "code",
   "execution_count": 27,
   "outputs": [
    {
     "data": {
      "text/plain": "                       id                      date  \\\n0     1568161361485778950 2022-09-09 08:56:18+00:00   \n1     1567919657700532229 2022-09-08 16:55:51+00:00   \n2     1567905608350814209 2022-09-08 16:00:01+00:00   \n3     1567873106978705415 2022-09-08 13:50:53+00:00   \n4     1567858990566019077 2022-09-08 12:54:47+00:00   \n...                   ...                       ...   \n996   1413071853090975753 2021-07-08 09:45:58+00:00   \n997   1412826587372871686 2021-07-07 17:31:22+00:00   \n998   1412823387165110275 2021-07-07 17:18:39+00:00   \n999   1412794178954801152 2021-07-07 15:22:35+00:00   \n1000  1412613796275884040 2021-07-07 03:25:48+00:00   \n\n                                             rawContent          sourceLabel  \\\n0     now i knew why i’m not tall and had a low bmi ...   Twitter for iPhone   \n1     @georgemarshhh Not a 4th time tho lad not even...  Twitter for Android   \n2     I saw my barista making this with dairy milk. ...   Twitter for iPhone   \n3     I’ve been feeling so sick in this heat…I feel ...   Twitter for iPhone   \n4     @BashirHashiysf You better take a break for li...  Twitter for Android   \n...                                                 ...                  ...   \n996   “How did you take care of it until now?” Chany...   Twitter for iPhone   \n997   @bfs2020 I've just switched from milk chocolat...      Twitter Web App   \n998   @SEC_News I aways felt unsure about milk up un...  Twitter for Android   \n999   @RemainerVermin @milk_and_more Shocking. I won...  Twitter for Android   \n1000  @HelLuluCorpse Ikr. I've never caught them in ...  Twitter for Android   \n\n                user  \n0             77lbss  \n1       Mark37941897  \n2     haleyvemealone  \n3          psValSays  \n4        HenockYonas  \n...              ...  \n996          nsfwcb1  \n997      trumpsatwit  \n998      HuguinhoT88  \n999    shoestring230  \n1000  DemonScorpio13  \n\n[1001 rows x 5 columns]",
      "text/html": "<div>\n<style scoped>\n    .dataframe tbody tr th:only-of-type {\n        vertical-align: middle;\n    }\n\n    .dataframe tbody tr th {\n        vertical-align: top;\n    }\n\n    .dataframe thead th {\n        text-align: right;\n    }\n</style>\n<table border=\"1\" class=\"dataframe\">\n  <thead>\n    <tr style=\"text-align: right;\">\n      <th></th>\n      <th>id</th>\n      <th>date</th>\n      <th>rawContent</th>\n      <th>sourceLabel</th>\n      <th>user</th>\n    </tr>\n  </thead>\n  <tbody>\n    <tr>\n      <th>0</th>\n      <td>1568161361485778950</td>\n      <td>2022-09-09 08:56:18+00:00</td>\n      <td>now i knew why i’m not tall and had a low bmi ...</td>\n      <td>Twitter for iPhone</td>\n      <td>77lbss</td>\n    </tr>\n    <tr>\n      <th>1</th>\n      <td>1567919657700532229</td>\n      <td>2022-09-08 16:55:51+00:00</td>\n      <td>@georgemarshhh Not a 4th time tho lad not even...</td>\n      <td>Twitter for Android</td>\n      <td>Mark37941897</td>\n    </tr>\n    <tr>\n      <th>2</th>\n      <td>1567905608350814209</td>\n      <td>2022-09-08 16:00:01+00:00</td>\n      <td>I saw my barista making this with dairy milk. ...</td>\n      <td>Twitter for iPhone</td>\n      <td>haleyvemealone</td>\n    </tr>\n    <tr>\n      <th>3</th>\n      <td>1567873106978705415</td>\n      <td>2022-09-08 13:50:53+00:00</td>\n      <td>I’ve been feeling so sick in this heat…I feel ...</td>\n      <td>Twitter for iPhone</td>\n      <td>psValSays</td>\n    </tr>\n    <tr>\n      <th>4</th>\n      <td>1567858990566019077</td>\n      <td>2022-09-08 12:54:47+00:00</td>\n      <td>@BashirHashiysf You better take a break for li...</td>\n      <td>Twitter for Android</td>\n      <td>HenockYonas</td>\n    </tr>\n    <tr>\n      <th>...</th>\n      <td>...</td>\n      <td>...</td>\n      <td>...</td>\n      <td>...</td>\n      <td>...</td>\n    </tr>\n    <tr>\n      <th>996</th>\n      <td>1413071853090975753</td>\n      <td>2021-07-08 09:45:58+00:00</td>\n      <td>“How did you take care of it until now?” Chany...</td>\n      <td>Twitter for iPhone</td>\n      <td>nsfwcb1</td>\n    </tr>\n    <tr>\n      <th>997</th>\n      <td>1412826587372871686</td>\n      <td>2021-07-07 17:31:22+00:00</td>\n      <td>@bfs2020 I've just switched from milk chocolat...</td>\n      <td>Twitter Web App</td>\n      <td>trumpsatwit</td>\n    </tr>\n    <tr>\n      <th>998</th>\n      <td>1412823387165110275</td>\n      <td>2021-07-07 17:18:39+00:00</td>\n      <td>@SEC_News I aways felt unsure about milk up un...</td>\n      <td>Twitter for Android</td>\n      <td>HuguinhoT88</td>\n    </tr>\n    <tr>\n      <th>999</th>\n      <td>1412794178954801152</td>\n      <td>2021-07-07 15:22:35+00:00</td>\n      <td>@RemainerVermin @milk_and_more Shocking. I won...</td>\n      <td>Twitter for Android</td>\n      <td>shoestring230</td>\n    </tr>\n    <tr>\n      <th>1000</th>\n      <td>1412613796275884040</td>\n      <td>2021-07-07 03:25:48+00:00</td>\n      <td>@HelLuluCorpse Ikr. I've never caught them in ...</td>\n      <td>Twitter for Android</td>\n      <td>DemonScorpio13</td>\n    </tr>\n  </tbody>\n</table>\n<p>1001 rows × 5 columns</p>\n</div>"
     },
     "execution_count": 27,
     "metadata": {},
     "output_type": "execute_result"
    }
   ],
   "source": [
    "tweet_df"
   ],
   "metadata": {
    "collapsed": false,
    "pycharm": {
     "name": "#%%\n"
    }
   }
  },
  {
   "cell_type": "code",
   "execution_count": null,
   "outputs": [],
   "source": [],
   "metadata": {
    "collapsed": false,
    "pycharm": {
     "name": "#%%\n"
    }
   }
  }
 ],
 "metadata": {
  "kernelspec": {
   "name": "sentiment",
   "language": "python",
   "display_name": "sentiment"
  },
  "language_info": {
   "codemirror_mode": {
    "name": "ipython",
    "version": 2
   },
   "file_extension": ".py",
   "mimetype": "text/x-python",
   "name": "python",
   "nbconvert_exporter": "python",
   "pygments_lexer": "ipython2",
   "version": "2.7.6"
  }
 },
 "nbformat": 4,
 "nbformat_minor": 0
}